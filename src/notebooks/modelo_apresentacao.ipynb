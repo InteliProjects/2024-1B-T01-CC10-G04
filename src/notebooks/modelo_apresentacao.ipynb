{
  "cells": [
    {
      "cell_type": "code",
      "execution_count": null,
      "metadata": {
        "id": "URTFHm6FYfbK"
      },
      "outputs": [],
      "source": [
        "import os\n",
        "import numpy as np\n",
        "from sklearn.model_selection import train_test_split\n",
        "import tensorflow as tf\n",
        "from tensorflow.keras.layers import Input, Conv2D, MaxPooling2D, UpSampling2D, concatenate, Dropout, Conv2DTranspose\n",
        "from tensorflow.keras.models import Model\n",
        "from tensorflow.keras.optimizers import Adam\n",
        "from tensorflow.keras.callbacks import ModelCheckpoint\n",
        "from matplotlib import pyplot as plt\n"
      ]
    },
    {
      "cell_type": "code",
      "execution_count": null,
      "metadata": {
        "colab": {
          "base_uri": "https://localhost:8080/"
        },
        "id": "tbmYSI6XuNrN",
        "outputId": "045bef38-3f60-4b26-c766-c4d0eeb1eb17"
      },
      "outputs": [],
      "source": [
        "from tensorflow.keras.preprocessing.image import load_img, img_to_array\n",
        "import os\n",
        "import numpy as np\n",
        "\n",
        "def load_images_and_masks(data_dir, mask_dir):\n",
        "    images = []\n",
        "    masks = []\n",
        "    file_names = sorted(os.listdir(data_dir))\n",
        "    for file in file_names:\n",
        "        if file.endswith('.png'):\n",
        "            img_path = os.path.join(data_dir, file)\n",
        "            mask_path = os.path.join(mask_dir, file)\n",
        "            try:\n",
        "                img = load_img(img_path)  # Carrega a imagem no formato padrão\n",
        "                img = img_to_array(img) / 255.0  # Normaliza a imagem para o intervalo [0, 1]\n",
        "                mask = load_img(mask_path, color_mode='grayscale')  # Carrega a máscara como grayscale\n",
        "                mask = img_to_array(mask) / 255.0  # Normaliza a máscara\n",
        "                mask = (mask > 0.5).astype(np.float32)  # Binariza a máscara\n",
        "\n",
        "                if img.shape == (1200, 1200, 3) and mask.shape == (1200, 1200, 1):\n",
        "                    images.append(img)\n",
        "                    masks.append(mask[:, :, 0])  # Garante que a máscara seja um array 2D\n",
        "                else:\n",
        "                    print(f\"Descartado por dimensões incorretas: {file}\")\n",
        "            except Exception as e:\n",
        "                print(f\"Erro ao carregar {file}: {e}\")\n",
        "\n",
        "    return np.array(images), np.array(masks)\n",
        "\n",
        "# Caminhos para os diretórios de imagens e máscaras\n",
        "data_dir = '/content/drive/MyDrive/modulo10/data/dataset_inteli/rgbs'\n",
        "mask_dir = '/content/drive/MyDrive/modulo10/data/dataset_inteli/masks'\n",
        "\n",
        "# Carregar imagens e máscaras\n",
        "images, masks = load_images_and_masks(data_dir, mask_dir)\n",
        "print(f\"Número de imagens carregadas: {len(images)}\")\n",
        "print(f\"Número de máscaras carregadas: {len(masks)}\")\n"
      ]
    },
    {
      "cell_type": "code",
      "execution_count": null,
      "metadata": {
        "id": "dYqOx2havVhl"
      },
      "outputs": [],
      "source": [
        "images, masks = load_images_and_masks(data_dir, mask_dir)\n",
        "\n",
        "# Dividir os dados em conjuntos de treinamento e teste\n",
        "X_train, X_test, y_train, y_test = train_test_split(images, masks, test_size=0.1, random_state=42)"
      ]
    },
    {
      "cell_type": "code",
      "execution_count": null,
      "metadata": {
        "id": "n6P2ihn0vWzx"
      },
      "outputs": [],
      "source": [
        "# Função para criar o modelo U-Net\n",
        "def unet(input_size=(1200, 1200, 3)):\n",
        "    inputs = Input(input_size)\n",
        "    # Contração\n",
        "    c1 = Conv2D(16, (3, 3), activation='relu', padding='same')(inputs)\n",
        "    c1 = Dropout(0.1)(c1)\n",
        "    c1 = Conv2D(16, (3, 3), activation='relu', padding='same')(c1)\n",
        "    p1 = MaxPooling2D((2, 2))(c1)\n",
        "\n",
        "    c2 = Conv2D(32, (3, 3), activation='relu', padding='same')(p1)\n",
        "    c2 = Dropout(0.1)(c2)\n",
        "    c2 = Conv2D(32, (3, 3), activation='relu', padding='same')(c2)\n",
        "    p2 = MaxPooling2D((2, 2))(c2)\n",
        "\n",
        "    # Expansão\n",
        "    u6 = Conv2DTranspose(16, (2, 2), strides=(2, 2), padding='same')(c2)\n",
        "    u6 = concatenate([u6, c1])\n",
        "    c6 = Conv2D(16, (3, 3), activation='relu', padding='same')(u6)\n",
        "    c6 = Dropout(0.1)(c6)\n",
        "    c6 = Conv2D(16, (3, 3), activation='relu', padding='same')(c6)\n",
        "\n",
        "    outputs = Conv2D(1, (1, 1), activation='sigmoid')(c6)\n",
        "    model = Model(inputs=[inputs], outputs=[outputs])\n",
        "    model.compile(optimizer=Adam(lr=1e-4), loss='binary_crossentropy', metrics=['accuracy'])\n",
        "    return model\n"
      ]
    },
    {
      "cell_type": "code",
      "execution_count": null,
      "metadata": {
        "colab": {
          "base_uri": "https://localhost:8080/"
        },
        "id": "ju58IauNxKWL",
        "outputId": "d004b8b5-4f42-4b98-973f-ba09cfc501d1"
      },
      "outputs": [],
      "source": [
        "# Criar o modelo\n",
        "model = unet(input_size=(1200, 1200, 3))"
      ]
    },
    {
      "cell_type": "code",
      "execution_count": null,
      "metadata": {
        "colab": {
          "base_uri": "https://localhost:8080/"
        },
        "id": "6L2P3jrQxO2u",
        "outputId": "7d7d077d-32df-4e40-8bac-1924bd903070"
      },
      "outputs": [],
      "source": [
        "# Treinar o modelo\n",
        "results = model.fit(X_train, y_train, validation_split=0.1, batch_size=2, epochs=50)\n"
      ]
    },
    {
      "cell_type": "code",
      "execution_count": null,
      "metadata": {
        "colab": {
          "base_uri": "https://localhost:8080/"
        },
        "id": "oHXfUd91xUQj",
        "outputId": "dcba052d-1c0c-4035-d025-8383ef02d2a8"
      },
      "outputs": [],
      "source": [
        "# Avaliar o modelo\n",
        "model.evaluate(X_test, y_test)"
      ]
    },
    {
      "cell_type": "code",
      "execution_count": null,
      "metadata": {
        "id": "qiZxl2sn0vlk"
      },
      "outputs": [],
      "source": [
        "def plot_results(X, y, model, ix=None):\n",
        "    \"\"\"Plotar a imagem, a máscara real e a máscara predita.\n",
        "\n",
        "    Args:\n",
        "    - X: array de imagens de entrada.\n",
        "    - y: array de máscaras reais.\n",
        "    - model: modelo treinado U-Net.\n",
        "    - ix: índice da imagem a ser plotada. Se None, seleciona uma imagem aleatoriamente.\n",
        "    \"\"\"\n",
        "    if ix is None:\n",
        "        ix = np.random.randint(0, len(X))\n",
        "\n",
        "    fig, ax = plt.subplots(1, 3, figsize=(20, 10))\n",
        "    ax[0].imshow(X[ix], cmap='gray')\n",
        "    ax[0].title.set_text('Imagem Original')\n",
        "    ax[0].axis('off')\n",
        "\n",
        "    ax[1].imshow(y[ix].squeeze(), cmap='gray')  # Squeeze para remover dimensões extras se houver\n",
        "    ax[1].title.set_text('Máscara Real')\n",
        "    ax[1].axis('off')\n",
        "\n",
        "    # Fazer a predição usando o modelo\n",
        "    pred = model.predict(X[ix:ix+1])\n",
        "    pred = (pred > 0.5).astype(np.float32)  # Binarizar a predição\n",
        "\n",
        "    ax[2].imshow(pred.squeeze(), cmap='gray')  # Squeeze para garantir que está em 2D\n",
        "    ax[2].title.set_text('Máscara Predita')\n",
        "    ax[2].axis('off')\n",
        "\n",
        "    plt.show()\n"
      ]
    },
    {
      "cell_type": "code",
      "execution_count": null,
      "metadata": {
        "colab": {
          "base_uri": "https://localhost:8080/",
          "height": 401
        },
        "id": "lakQgC2a2tqy",
        "outputId": "63addf7b-aee5-4f4f-e892-3dd406f70028"
      },
      "outputs": [],
      "source": [
        "# Exemplo de como plotar uma imagem específica\n",
        "index = None  # Escolha um índice ou deixe None para aleatório\n",
        "plot_results(X_test, y_test, model, ix=index)\n"
      ]
    },
    {
      "cell_type": "code",
      "execution_count": null,
      "metadata": {
        "id": "8KGQZ4SV2yN6"
      },
      "outputs": [],
      "source": []
    }
  ],
  "metadata": {
    "accelerator": "GPU",
    "colab": {
      "gpuType": "A100",
      "machine_shape": "hm",
      "provenance": []
    },
    "kernelspec": {
      "display_name": "Python 3",
      "name": "python3"
    },
    "language_info": {
      "name": "python"
    }
  },
  "nbformat": 4,
  "nbformat_minor": 0
}
